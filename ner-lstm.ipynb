{
 "cells": [
  {
   "cell_type": "code",
   "execution_count": 1,
   "metadata": {},
   "outputs": [
    {
     "name": "stderr",
     "output_type": "stream",
     "text": [
      "/home/kimegitee/miniconda3/lib/python3.6/importlib/_bootstrap.py:205: RuntimeWarning: compiletime version 3.5 of module 'tensorflow.python.framework.fast_tensor_util' does not match runtime version 3.6\n",
      "  return f(*args, **kwds)\n"
     ]
    },
    {
     "name": "stdout",
     "output_type": "stream",
     "text": [
      "Extracting MNIST_data/train-images-idx3-ubyte.gz\n",
      "Extracting MNIST_data/train-labels-idx1-ubyte.gz\n",
      "Extracting MNIST_data/t10k-images-idx3-ubyte.gz\n",
      "Extracting MNIST_data/t10k-labels-idx1-ubyte.gz\n"
     ]
    }
   ],
   "source": [
    "from tensorflow.examples.tutorials.mnist import input_data\n",
    "mnist = input_data.read_data_sets('MNIST_data', one_hot=False, dtype='uint8')"
   ]
  },
  {
   "cell_type": "code",
   "execution_count": 62,
   "metadata": {},
   "outputs": [],
   "source": [
    "import os\n",
    "import cv2\n",
    "import glob\n",
    "import numpy as np\n",
    "import matplotlib.pyplot as plt"
   ]
  },
  {
   "cell_type": "code",
   "execution_count": 8,
   "metadata": {},
   "outputs": [],
   "source": [
    "dataset = {\n",
    "    'train': {}, \n",
    "    'test': {}\n",
    "}\n",
    "\n",
    "for group, data in [(\"train\", mnist.train),(\"test\", mnist.test)]:\n",
    "    images, labels = preprocess(data.images, data.labels)\n",
    "    dataset[group]['images'] = images\n",
    "    dataset[group]['labels'] = labels"
   ]
  },
  {
   "cell_type": "code",
   "execution_count": 16,
   "metadata": {},
   "outputs": [],
   "source": [
    "for group in ['train', 'test']:\n",
    "    images = dataset[group]['images']\n",
    "    labels = dataset[group]['labels']\n",
    "    for i in range(len(images)):\n",
    "        writedata(i, images[i], labels[i], group)"
   ]
  },
  {
   "cell_type": "code",
   "execution_count": 9,
   "metadata": {},
   "outputs": [],
   "source": [
    "def preprocess2(path, images, labels, size, num_samples=1, digit_range=(1, 2)):\n",
    "    imgdir = path + '/images/'\n",
    "    lbldir = path + '/labels/'\n",
    "    for path in [imgdir, lbldir]:\n",
    "        if not os.path.exists(path):\n",
    "            os.makedirs(path)\n",
    "    for sample_idx in range(1, num_samples+1):\n",
    "        img_name = '{:05d}.png'.format(sample_idx)\n",
    "        xml_name = '{:05d}.xml'.format(sample_idx)\n",
    "        img_path = imgdir + img_name\n",
    "        canvas = np.zeros(size, 'uint8')\n",
    "        xml = ''\n",
    "        num_digits = np.random.randint(*digit_range)\n",
    "        for i in np.random.randint(0, len(data.images), size=num_digits):\n",
    "            img = pickimg(data.images, i)\n",
    "            lbl = data.labels[i]\n",
    "            img = applyscaling(img)\n",
    "            img = croptobbox(img)\n",
    "            tl_i = np.random.randint(0, canvas.shape[0] - img.shape[0])\n",
    "            tl_j = np.random.randint(0, canvas.shape[1] - img.shape[1])\n",
    "            br_i = tl_i + img.shape[0]\n",
    "            br_j = tl_j + img.shape[1]\n",
    "            placeincanvas(canvas, img, tl_i, tl_j)\n",
    "            xml += obj_xml.format(lbl, tl_j, tl_i, br_j, br_i)\n",
    "        xml = ann_xml.format(img_name, *size, xml)\n",
    "        cv2.imwrite(imgdir + img_name, canvas)\n",
    "        with open(lbldir + xml_name, 'x') as f:\n",
    "            f.write(xml)\n",
    "        \n",
    "for group, data in [(\"train\", mnist.train),(\"test\", mnist.test)]:\n",
    "    preprocess2('./data/256-simple/' + group, data.images, data.labels, (256, 256), num_samples=data.images.shape[0])\n",
    "    \n",
    "        "
   ]
  },
  {
   "cell_type": "code",
   "execution_count": 3,
   "metadata": {},
   "outputs": [],
   "source": [
    "obj_xml = '''\n",
    "    <object>\n",
    "        <name>{}</name>\n",
    "        <bndbox>\n",
    "            <xmin>{}</xmin>\n",
    "            <ymin>{}</ymin>\n",
    "            <xmax>{}</xmax>\n",
    "            <ymax>{}</ymax>\n",
    "        </bndbox>\n",
    "    </object>\\\n",
    "'''\n",
    "\n",
    "ann_xml = '''\\\n",
    "<annotation>\n",
    "    <filename>{}</filename>\n",
    "    <size>\n",
    "        <width>{}</width>\n",
    "        <height>{}</height>\n",
    "        <depth>3</depth>\n",
    "    </size>{}\n",
    "</annotation>\\\n",
    "'''\n",
    "\n",
    "def writedata(idx, image, label, group):\n",
    "    imgdir = 'data/' + group + '/images/'\n",
    "    lbldir = 'data/' + group + '/labels/'\n",
    "    if not os.path.exists(imgdir):\n",
    "        os.makedirs(imgdir)\n",
    "    if not os.path.exists(lbldir):\n",
    "        os.makedirs(lbldir)\n",
    "    imgname = '{:05d}.png'.format(idx)\n",
    "    xmlname = '{:05d}.xml'.format(idx)\n",
    "    cv2.imwrite(imgdir + imgname, image)\n",
    "    xml = ''\n",
    "    for i in [0, 1]:\n",
    "        true_label = label[i+2]\n",
    "        xmin, ymin = label[i][0]\n",
    "        xmax, ymax = label[i][1]\n",
    "        xml += obj_xml.format(\n",
    "            true_label, xmin, ymin, xmax, ymax)\n",
    "    xml = ann_xml.format(imgname, xml)\n",
    "    with open(lbldir + xmlname, 'x') as file:\n",
    "        file.write(xml)\n",
    "    \n",
    "    \n",
    "def preprocess(data, targets):\n",
    "    images = []\n",
    "    labels = []\n",
    "    for i in range(data.shape[0]):\n",
    "        idx1 = i\n",
    "        idx2 = np.random.choice(data.shape[0])\n",
    "        img1 = pickimg(data, idx1)\n",
    "        img2 = pickimg(data, idx2)\n",
    "        img, coords = combine(img1, img2)\n",
    "        images.append(img)\n",
    "        coords.extend([targets[idx1], targets[idx2]])\n",
    "        labels.append(coords)\n",
    "    return images, labels\n",
    "\n",
    "def plotbbox(img, xmin, ymin, xmax, ymax):\n",
    "    img = np.copy(img)\n",
    "    cv2.rectangle(img, (xmin, ymin), (xmax, ymax), (255, 255, 255), 1)\n",
    "    plt.imshow(img)\n",
    "    plt.show()\n",
    "    \n",
    "def combine(img1, img2, w=40):\n",
    "    '''Overlay 2 images\n",
    "    Returns:\n",
    "        New image and bounding box locations\n",
    "    '''\n",
    "    img1 = croptobbox(img1)\n",
    "    img2 = croptobbox(img2)\n",
    "    img3 = np.zeros([w, w], 'uint8')\n",
    "    i1, i2 = np.random.randint(15, 25, size=2)\n",
    "    j1, j2 = np.random.randint(12, 16, size=2)\n",
    "    mask = img2 > 0\n",
    "    h1, w1 = img1.shape\n",
    "    h2, w2 = img2.shape\n",
    "    i1 = i1 - h1//2\n",
    "    i2 = i2 - h2//2\n",
    "    j1 = j1 - w1//2\n",
    "    j2 = j2 - w2//2 + 12\n",
    "    img3[i1:i1+h1, j1:j1+w1] = img1\n",
    "    img3[i2:i2+h2, j2:j2+w2][mask] = img2[mask]\n",
    "    tl1 = j1, i1 # topleft row and column indices\n",
    "    br1 = j1 + w1, i1 + h1 # bottom right\n",
    "    tl2 = j2, i2\n",
    "    br2 = j2 + w2, i2 + h2\n",
    "    return img3, [[tl1, br1], [tl2, br2]]\n",
    "\n",
    "def pickimg(images, index):\n",
    "    '''Pick one from images'''\n",
    "    return np.copy(images[index].reshape([28, 28]))\n",
    "\n",
    "def findbbox(img):\n",
    "    a = np.where(img != 0)\n",
    "    bbox = np.min(a[0]), np.max(a[0]), np.min(a[1]), np.max(a[1])\n",
    "    return bbox\n",
    "\n",
    "def croptobbox(img):\n",
    "    '''Crop image to bounding box size'''\n",
    "    a = np.where(img != 0)\n",
    "    xmin, xmax, ymin, ymax = np.min(a[1]), np.max(a[1]), np.min(a[0]), np.max(a[0])\n",
    "    return np.copy(img[ymin:ymax, xmin:xmax])\n",
    "\n",
    "def placeincanvas(canvas, img, i, j):\n",
    "    # Mutates canvas\n",
    "    mask = img > 0\n",
    "    canvas[i:i+img.shape[0], j:j+img.shape[1]][mask] = img[mask]\n",
    "    \n",
    "def applyscaling(img, size=None):\n",
    "    fx = 2**np.random.sample()\n",
    "    fy = 2**np.random.sample()\n",
    "    if size is not None:\n",
    "        x, y = size\n",
    "        return cv2.resize(np.copy(img), size, interpolation=cv2.INTER_CUBIC)\n",
    "    return cv2.resize(np.copy(img), None, fx=fx, fy=fy, interpolation=cv2.INTER_CUBIC)"
   ]
  },
  {
   "cell_type": "code",
   "execution_count": 635,
   "metadata": {},
   "outputs": [
    {
     "data": {
      "image/png": "[encoded data removed]",
      "text/plain": [
       "<matplotlib.figure.Figure at 0x7f695e64c198>"
      ]
     },
     "metadata": {},
     "output_type": "display_data"
    }
   ],
   "source": [
    "img = cv2.imread('data/256x256/train/images/00001.png')\n",
    "plotbbox(img, 190, 107, 234, 142)"
   ]
  },
  {
   "cell_type": "code",
   "execution_count": 77,
   "metadata": {},
   "outputs": [
    {
     "name": "stdout",
     "output_type": "stream",
     "text": [
      "/home/kimegitee/ner-lstm\n"
     ]
    }
   ],
   "source": [
    "current_dir = os.getcwd()\n",
    "print(current_dir)\n",
    "os.chdir('sample')\n",
    "files = glob.glob('*.png')\n",
    "for file in files:\n",
    "    name = file[:-4]\n",
    "    img = cv2.imread(file)\n",
    "    img = cv2.cvtColor(img, cv2.COLOR_BGR2GRAY)\n",
    "    img = 255 - img\n",
    "    images = []\n",
    "    images.append(img[:,:256])\n",
    "    images.append(img[:,256:512])\n",
    "    images.append(img[:,512:])\n",
    "    for i in range(len(images)):\n",
    "#         mask = images[i] > 80\n",
    "#         images[i][mask] = 255\n",
    "        cv2.imwrite('out/' + name + '_' + str(i) + '.png', images[i])\n",
    "os.chdir(current_dir)"
   ]
  }
 ],
 "metadata": {
  "kernelspec": {
   "display_name": "Python 3",
   "language": "python",
   "name": "python3"
  },
  "language_info": {
   "codemirror_mode": {
    "name": "ipython",
    "version": 3
   },
   "file_extension": ".py",
   "mimetype": "text/x-python",
   "name": "python",
   "nbconvert_exporter": "python",
   "pygments_lexer": "ipython3",
   "version": "3.6.0"
  }
 },
 "nbformat": 4,
 "nbformat_minor": 2
}
