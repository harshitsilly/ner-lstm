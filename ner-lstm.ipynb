{
 "cells": [
  {
   "cell_type": "code",
   "execution_count": 1,
   "metadata": {},
   "outputs": [
    {
     "name": "stdout",
     "output_type": "stream",
     "text": [
      "Extracting MNIST_data/train-images-idx3-ubyte.gz\n",
      "Extracting MNIST_data/train-labels-idx1-ubyte.gz\n",
      "Extracting MNIST_data/t10k-images-idx3-ubyte.gz\n",
      "Extracting MNIST_data/t10k-labels-idx1-ubyte.gz\n"
     ]
    }
   ],
   "source": [
    "from tensorflow.examples.tutorials.mnist import input_data\n",
    "mnist = input_data.read_data_sets('MNIST_data', one_hot=False, dtype='uint8')"
   ]
  },
  {
   "cell_type": "code",
   "execution_count": 2,
   "metadata": {},
   "outputs": [],
   "source": [
    "import cv2\n",
    "import numpy as np\n",
    "import matplotlib.pyplot as plt"
   ]
  },
  {
   "cell_type": "code",
   "execution_count": 19,
   "metadata": {},
   "outputs": [],
   "source": [
    "dataset = {\n",
    "    'train': {}, \n",
    "    'test': {}\n",
    "}\n",
    "\n",
    "for group, data in [(\"train\", mnist.train),(\"test\", mnist.test)]:\n",
    "    images, labels = preprocess(data.images, data.labels)\n",
    "    dataset[group]['images'] = images\n",
    "    dataset[group]['labels'] = labels"
   ]
  },
  {
   "cell_type": "code",
   "execution_count": 63,
   "metadata": {},
   "outputs": [
    {
     "data": {
      "image/png": "[encoded data removed]",
      "text/plain": [
       "<matplotlib.figure.Figure at 0x7f655097f0b8>"
      ]
     },
     "metadata": {},
     "output_type": "display_data"
    },
    {
     "data": {
      "text/plain": [
       "[[(7, 7), (23, 27)], [(16, 13), (35, 33)], 0, 4]"
      ]
     },
     "execution_count": 63,
     "metadata": {},
     "output_type": "execute_result"
    }
   ],
   "source": [
    "i = 10\n",
    "img = dataset['train']['images'][i]\n",
    "lbl = dataset['train']['labels'][i]\n",
    "plotbbox(img, lbl)\n",
    "lbl"
   ]
  },
  {
   "cell_type": "code",
   "execution_count": 71,
   "metadata": {},
   "outputs": [],
   "source": [
    "for group in ['train', 'test']:\n",
    "    images = dataset[group]['images']\n",
    "    labels = dataset[group]['labels']\n",
    "    for i in range(len(images)):\n",
    "        writedata(i, images[i], labels[i], group)"
   ]
  },
  {
   "cell_type": "code",
   "execution_count": 46,
   "metadata": {},
   "outputs": [
    {
     "data": {
      "text/plain": [
       "(40, 40, 3)"
      ]
     },
     "execution_count": 46,
     "metadata": {},
     "output_type": "execute_result"
    }
   ],
   "source": [
    "temp.shape"
   ]
  },
  {
   "cell_type": "code",
   "execution_count": 69,
   "metadata": {},
   "outputs": [],
   "source": [
    "obj_xml = '''\n",
    "    <object>\n",
    "        <name>{}</name>\n",
    "        <bndbox>\n",
    "            <xmin>{}</xmin>\n",
    "            <ymin>{}</ymin>\n",
    "            <xmax>{}</xmax>\n",
    "            <ymax>{}</ymax>\n",
    "        </bndbox>\n",
    "    </object>\\\n",
    "'''\n",
    "\n",
    "ann_xml = '''\\\n",
    "<annotation>\n",
    "    <filename>{}</filename>\n",
    "    <size>\n",
    "        <width>40</width>\n",
    "        <height>40</height>\n",
    "        <depth>3</depth>\n",
    "    </size>{}\n",
    "</annotation>\\\n",
    "'''\n",
    "\n",
    "def writedata(idx, image, label, group):\n",
    "    imgdir = 'data/' + group + '/images/'\n",
    "    lbldir = 'data/' + group + '/labels/'\n",
    "    imgname = '{:05d}.png'.format(idx)\n",
    "    xmlname = '{:05d}.xml'.format(idx)\n",
    "    cv2.imwrite(imgdir + imgname, image)\n",
    "    xml = ''\n",
    "    for i in [0, 1]:\n",
    "        true_label = label[i+2]\n",
    "        xmin, ymin = label[i][0]\n",
    "        xmax, ymax = label[i][1]\n",
    "        xml += obj_xml.format(\n",
    "            true_label, xmin, ymin, xmax, ymax)\n",
    "    xml = ann_xml.format(imgname, xml)\n",
    "    with open(lbldir + xmlname, 'x') as file:\n",
    "        file.write(xml)\n",
    "    \n",
    "    \n",
    "def preprocess(data, targets):\n",
    "    images = []\n",
    "    labels = []\n",
    "    for i in range(data.shape[0]):\n",
    "        idx1 = i\n",
    "        idx2 = np.random.choice(data.shape[0])\n",
    "        img1 = pickimg(data, idx1)\n",
    "        img2 = pickimg(data, idx2)\n",
    "        img, coords = combine(img1, img2)\n",
    "        images.append(img)\n",
    "        coords.extend([targets[idx1], targets[idx2]])\n",
    "        labels.append(coords)\n",
    "    return images, labels\n",
    "\n",
    "def plotbbox(img, coords):\n",
    "    tl1, br1 = coords[0]\n",
    "    tl2, br2 = coords[1]\n",
    "    cv2.rectangle(img, tl1, br1, (190, 190, 190), 1)\n",
    "    cv2.rectangle(img, tl2, br2, (190, 190, 190), 1)\n",
    "    plt.imshow(img, cmap='inferno')\n",
    "    plt.show()\n",
    "    \n",
    "def combine(img1, img2, w=40):\n",
    "    '''Overlay 2 images\n",
    "    Returns:\n",
    "        New image and bounding box locations\n",
    "    '''\n",
    "    img1 = croptobbox(img1)\n",
    "    img2 = croptobbox(img2)\n",
    "    img3 = np.zeros([w, w], 'uint8')\n",
    "    i1, i2 = np.random.randint(15, 25, size=2)\n",
    "    j1, j2 = np.random.randint(12, 16, size=2)\n",
    "    mask = img2 > 0\n",
    "    h1, w1 = img1.shape\n",
    "    h2, w2 = img2.shape\n",
    "    i1 = i1 - h1//2\n",
    "    i2 = i2 - h2//2\n",
    "    j1 = j1 - w1//2\n",
    "    j2 = j2 - w2//2 + 12\n",
    "    img3[i1:i1+h1, j1:j1+w1] = img1\n",
    "    img3[i2:i2+h2, j2:j2+w2][mask] = img2[mask]\n",
    "    tl1 = j1, i1 # topleft row and column indices\n",
    "    br1 = j1 + w1, i1 + h1 # bottom right\n",
    "    tl2 = j2, i2\n",
    "    br2 = j2 + w2, i2 + h2\n",
    "    return img3, [[tl1, br1], [tl2, br2]]\n",
    "\n",
    "def pickimg(images, index):\n",
    "    '''Pick one from images'''\n",
    "    return np.copy(images[index].reshape([28, 28]))\n",
    "\n",
    "def findbbox(img):\n",
    "    '''Find bounding rectangle\n",
    "    Returns:\n",
    "        Top left and bottom right row and column indices\n",
    "    '''\n",
    "    _, contours, _ = cv2.findContours(img, 1, 2)\n",
    "    x, y, w, h = cv2.boundingRect(contours[-1])\n",
    "    return y, x, y+h-1, x+w-1\n",
    "\n",
    "def croptobbox(img):\n",
    "    '''Crop image to bounding box size'''\n",
    "    tl_i, tl_j, br_i, br_j = findbbox(img)\n",
    "    return np.copy(img[tl_i:br_i+1, tl_j:br_j+1])"
   ]
  }
 ],
 "metadata": {
  "kernelspec": {
   "display_name": "Python 3",
   "language": "python",
   "name": "python3"
  },
  "language_info": {
   "codemirror_mode": {
    "name": "ipython",
    "version": 3
   },
   "file_extension": ".py",
   "mimetype": "text/x-python",
   "name": "python",
   "nbconvert_exporter": "python",
   "pygments_lexer": "ipython3",
   "version": "3.6.0"
  }
 },
 "nbformat": 4,
 "nbformat_minor": 2
}
